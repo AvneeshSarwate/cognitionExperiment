{
 "cells": [
  {
   "cell_type": "code",
   "execution_count": 25,
   "metadata": {
    "collapsed": true
   },
   "outputs": [],
   "source": [
    "import json \n",
    "\n",
    "quizResults = json.load(open(\"quizResults.txt\"))\n",
    "quizResults = [json.loads(q[0]) for q in quizResults[1:]]\n",
    "quizResults = [q for q in quizResults if len(q['answers'])  == 20 and not 'unsure' in q['answers']]"
   ]
  },
  {
   "cell_type": "code",
   "execution_count": 37,
   "metadata": {},
   "outputs": [],
   "source": [
    "def correct(res, ind):\n",
    "    q = res['questions'][ind]\n",
    "    ans = res['answers'][ind]\n",
    "    return q['query'][7] == 'c' and ans == 'no' or q['query'][7] == 't' and ans == 'yes'\n",
    "    \n",
    "\n",
    "def qType(res, ind):\n",
    "    variation = \"same\" if res['questions'][ind]['query'][7] == 't' else \"diff\"\n",
    "    timbre = \"same\" if res['questions'][ind]['targets'][0][5] == res['questions'][ind]['targets'][1][5] else \"diff\"\n",
    "    return {'timbre': timbre, 'variation': variation}\n",
    "    \n",
    "\n",
    "\n",
    "metaInfo = []\n",
    "# metaInfo is a list of the \"graded\" questions - formatted as below\n",
    "# {'correct': True, 'qType': {'timbre': 'diff', 'variation': 'same'}}\n",
    "# the qType has 2 parts 'timbre' - if its a question where the target was played on different timbres\n",
    "#                       'variation' - if the query melody was the same as the target or a variation\n",
    " \n",
    "for res in quizResults:\n",
    "    metaInfo += [{'correct': correct(res, i), 'qType': qType(res, i)} for i in range(len(res['answers']))]"
   ]
  },
  {
   "cell_type": "code",
   "execution_count": 43,
   "metadata": {},
   "outputs": [],
   "source": [
    "correctQs = [m for m in metaInfo if m['correct']]\n",
    "qSame_vSame_correct = [m for m in correctQs if m['qType']['timbre'] == 'same' and m['qType']['variation'] == 'same']\n",
    "qDiff_vDiff_correct = [m for m in correctQs if m['qType']['timbre'] == 'diff' and m['qType']['variation'] == 'diff']\n",
    "qDiff_vSame_correct = [m for m in correctQs if m['qType']['timbre'] == 'diff' and m['qType']['variation'] == 'same']\n",
    "qSame_vDiff_correct = [m for m in correctQs if m['qType']['timbre'] == 'same' and m['qType']['variation'] == 'diff']\n",
    "\n",
    "wrongQs = [m for m in metaInfo if not m['correct']]\n",
    "qSame_vSame_wrong = [m for m in wrongQs if m['qType']['timbre'] == 'same' and m['qType']['variation'] == 'same']\n",
    "qDiff_vDiff_wrong = [m for m in wrongQs if m['qType']['timbre'] == 'diff' and m['qType']['variation'] == 'diff']\n",
    "qDiff_vSame_wrong = [m for m in wrongQs if m['qType']['timbre'] == 'diff' and m['qType']['variation'] == 'same']\n",
    "qSame_vDiff_wrong = [m for m in wrongQs if m['qType']['timbre'] == 'same' and m['qType']['variation'] == 'diff']"
   ]
  },
  {
   "cell_type": "code",
   "execution_count": 45,
   "metadata": {},
   "outputs": [
    {
     "name": "stdout",
     "output_type": "stream",
     "text": [
      "54 43 47 41 185\n",
      "36 47 43 49 175\n"
     ]
    }
   ],
   "source": [
    "print len(qSame_vSame_correct), len(qDiff_vDiff_correct), len(qDiff_vSame_correct), len(qSame_vDiff_correct), len(correctQs)\n",
    "print len(qSame_vSame_wrong), len(qDiff_vDiff_wrong), len(qDiff_vSame_wrong), len(qSame_vDiff_wrong), len(wrongQs)"
   ]
  }
 ],
 "metadata": {
  "kernelspec": {
   "display_name": "Python 2",
   "language": "python",
   "name": "python2"
  },
  "language_info": {
   "codemirror_mode": {
    "name": "ipython",
    "version": 2
   },
   "file_extension": ".py",
   "mimetype": "text/x-python",
   "name": "python",
   "nbconvert_exporter": "python",
   "pygments_lexer": "ipython2",
   "version": "2.7.15"
  }
 },
 "nbformat": 4,
 "nbformat_minor": 2
}
